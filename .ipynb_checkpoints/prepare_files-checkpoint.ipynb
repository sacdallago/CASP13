{
 "cells": [
  {
   "cell_type": "code",
   "execution_count": 1,
   "metadata": {},
   "outputs": [],
   "source": [
    "import os\n",
    "import copy\n",
    "from evcouplings.utils import read_config_file, write_config_file\n",
    "from Bio import SeqIO"
   ]
  },
  {
   "cell_type": "code",
   "execution_count": 2,
   "metadata": {},
   "outputs": [],
   "source": [
    "fasta_sequences = SeqIO.parse('sequences_no_spaces.fasta','fasta')\n",
    "master_config = read_config_file('config.txt')"
   ]
  },
  {
   "cell_type": "code",
   "execution_count": 39,
   "metadata": {},
   "outputs": [],
   "source": [
    "for i, sequence in enumerate(fasta_sequences):\n",
    "    directory = 'runs/{}_{}'.format(sequence.id, i)\n",
    "    current_config = copy.deepcopy(master_config)\n",
    "    os.mkdir(directory)\n",
    "    os.mkdir(directory + \"/server_resources\")\n",
    "    \n",
    "    current_config['global']['prefix'] = sequence.id\n",
    "    current_config['global']['sequence_id'] = sequence.id\n",
    "    \n",
    "    write_config_file(directory + \"/config.txt\", current_config)\n",
    "    \n",
    "    SeqIO.write(sequence, directory + \"/server_resources/sequence_file\", \"fasta\")"
   ]
  }
 ],
 "metadata": {
  "kernelspec": {
   "display_name": "Python 3",
   "language": "python",
   "name": "python3"
  },
  "language_info": {
   "codemirror_mode": {
    "name": "ipython",
    "version": 3
   },
   "file_extension": ".py",
   "mimetype": "text/x-python",
   "name": "python",
   "nbconvert_exporter": "python",
   "pygments_lexer": "ipython3",
   "version": "3.6.3"
  }
 },
 "nbformat": 4,
 "nbformat_minor": 2
}
